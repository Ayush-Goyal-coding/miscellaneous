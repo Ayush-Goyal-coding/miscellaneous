{
 "cells": [
  {
   "cell_type": "code",
   "execution_count": 160,
   "metadata": {
    "collapsed": true
   },
   "outputs": [],
   "source": [
    "import pandas as pd\n"
   ]
  },
  {
   "cell_type": "code",
   "execution_count": 161,
   "metadata": {},
   "outputs": [
    {
     "data": {
      "text/html": [
       "<div>\n",
       "<style>\n",
       "    .dataframe thead tr:only-child th {\n",
       "        text-align: right;\n",
       "    }\n",
       "\n",
       "    .dataframe thead th {\n",
       "        text-align: left;\n",
       "    }\n",
       "\n",
       "    .dataframe tbody tr th {\n",
       "        vertical-align: top;\n",
       "    }\n",
       "</style>\n",
       "<table border=\"1\" class=\"dataframe\">\n",
       "  <thead>\n",
       "    <tr style=\"text-align: right;\">\n",
       "      <th></th>\n",
       "      <th>Name</th>\n",
       "      <th>Gender</th>\n",
       "      <th>Branch</th>\n",
       "      <th>phone</th>\n",
       "    </tr>\n",
       "  </thead>\n",
       "  <tbody>\n",
       "    <tr>\n",
       "      <th>0</th>\n",
       "      <td>SWATI MANDAL</td>\n",
       "      <td>F</td>\n",
       "      <td>EEE</td>\n",
       "      <td>94255 - 85238</td>\n",
       "    </tr>\n",
       "    <tr>\n",
       "      <th>1</th>\n",
       "      <td>ANKIT NIRMALAKAR</td>\n",
       "      <td>M</td>\n",
       "      <td>EEE</td>\n",
       "      <td>96306 - 73988</td>\n",
       "    </tr>\n",
       "    <tr>\n",
       "      <th>2</th>\n",
       "      <td>SOUMYADYUTI MAJUMDAR</td>\n",
       "      <td>M</td>\n",
       "      <td>EEE</td>\n",
       "      <td>9770770909</td>\n",
       "    </tr>\n",
       "    <tr>\n",
       "      <th>3</th>\n",
       "      <td>PRINCE AGRAWAL</td>\n",
       "      <td>M</td>\n",
       "      <td>EEE</td>\n",
       "      <td>94067 - 47153 94253 -\\n44091</td>\n",
       "    </tr>\n",
       "    <tr>\n",
       "      <th>4</th>\n",
       "      <td>NAWAZISH SULTAN</td>\n",
       "      <td>M</td>\n",
       "      <td>EEE</td>\n",
       "      <td>98264 - 57486 98269 -\\n68939</td>\n",
       "    </tr>\n",
       "  </tbody>\n",
       "</table>\n",
       "</div>"
      ],
      "text/plain": [
       "                   Name Gender Branch                         phone\n",
       "0          SWATI MANDAL      F    EEE                 94255 - 85238\n",
       "1      ANKIT NIRMALAKAR      M    EEE                 96306 - 73988\n",
       "2  SOUMYADYUTI MAJUMDAR      M    EEE                    9770770909\n",
       "3        PRINCE AGRAWAL      M    EEE  94067 - 47153 94253 -\\n44091\n",
       "4       NAWAZISH SULTAN      M    EEE  98264 - 57486 98269 -\\n68939"
      ]
     },
     "execution_count": 161,
     "metadata": {},
     "output_type": "execute_result"
    }
   ],
   "source": [
    "loc = 'c:/Users/My/Desktop/'\n",
    "loc = loc + '19.csv'\n",
    "n = pd.read_csv(loc, names = [\"Name\", \"Gender\", \"Branch\", \"phone\"])\n",
    "n.head(5)"
   ]
  },
  {
   "cell_type": "code",
   "execution_count": 162,
   "metadata": {},
   "outputs": [
    {
     "data": {
      "text/plain": [
       "0                   94255 - 85238\n",
       "1                   96306 - 73988\n",
       "2                      9770770909\n",
       "3    94067 - 47153 94253 -\\n44091\n",
       "4    98264 - 57486 98269 -\\n68939\n",
       "Name: phone, dtype: object"
      ]
     },
     "execution_count": 162,
     "metadata": {},
     "output_type": "execute_result"
    }
   ],
   "source": [
    "num = n[n.columns[3]]\n",
    "num.head(5)"
   ]
  },
  {
   "cell_type": "code",
   "execution_count": 163,
   "metadata": {},
   "outputs": [],
   "source": [
    "for i in range(num.size):\n",
    "    num[i] = num[i].replace(\",\",\"\") #if two number are present\n",
    "    b = num[i].split(\" \")   #if space is present between them\n",
    "    if len(b)>=3 :\n",
    "        num[i]  = b[0]+b[2]\n",
    "        if num[i][0] == 0:\n",
    "            num[i] = num[i].lstrip('0')\n",
    "\n",
    "        "
   ]
  },
  {
   "cell_type": "code",
   "execution_count": 164,
   "metadata": {},
   "outputs": [
    {
     "data": {
      "text/html": [
       "<div>\n",
       "<style>\n",
       "    .dataframe thead tr:only-child th {\n",
       "        text-align: right;\n",
       "    }\n",
       "\n",
       "    .dataframe thead th {\n",
       "        text-align: left;\n",
       "    }\n",
       "\n",
       "    .dataframe tbody tr th {\n",
       "        vertical-align: top;\n",
       "    }\n",
       "</style>\n",
       "<table border=\"1\" class=\"dataframe\">\n",
       "  <thead>\n",
       "    <tr style=\"text-align: right;\">\n",
       "      <th></th>\n",
       "      <th>Name</th>\n",
       "      <th>Gender</th>\n",
       "      <th>Branch</th>\n",
       "      <th>phone</th>\n",
       "    </tr>\n",
       "  </thead>\n",
       "  <tbody>\n",
       "    <tr>\n",
       "      <th>0</th>\n",
       "      <td>SWATI MANDAL</td>\n",
       "      <td>F</td>\n",
       "      <td>EEE</td>\n",
       "      <td>9425585238</td>\n",
       "    </tr>\n",
       "    <tr>\n",
       "      <th>1</th>\n",
       "      <td>ANKIT NIRMALAKAR</td>\n",
       "      <td>M</td>\n",
       "      <td>EEE</td>\n",
       "      <td>9630673988</td>\n",
       "    </tr>\n",
       "    <tr>\n",
       "      <th>2</th>\n",
       "      <td>SOUMYADYUTI MAJUMDAR</td>\n",
       "      <td>M</td>\n",
       "      <td>EEE</td>\n",
       "      <td>9770770909</td>\n",
       "    </tr>\n",
       "    <tr>\n",
       "      <th>3</th>\n",
       "      <td>PRINCE AGRAWAL</td>\n",
       "      <td>M</td>\n",
       "      <td>EEE</td>\n",
       "      <td>9406747153</td>\n",
       "    </tr>\n",
       "    <tr>\n",
       "      <th>4</th>\n",
       "      <td>NAWAZISH SULTAN</td>\n",
       "      <td>M</td>\n",
       "      <td>EEE</td>\n",
       "      <td>9826457486</td>\n",
       "    </tr>\n",
       "  </tbody>\n",
       "</table>\n",
       "</div>"
      ],
      "text/plain": [
       "                   Name Gender Branch       phone\n",
       "0          SWATI MANDAL      F    EEE  9425585238\n",
       "1      ANKIT NIRMALAKAR      M    EEE  9630673988\n",
       "2  SOUMYADYUTI MAJUMDAR      M    EEE  9770770909\n",
       "3        PRINCE AGRAWAL      M    EEE  9406747153\n",
       "4       NAWAZISH SULTAN      M    EEE  9826457486"
      ]
     },
     "execution_count": 164,
     "metadata": {},
     "output_type": "execute_result"
    }
   ],
   "source": [
    "n[n.columns[3]] = num\n",
    "n.head(5)"
   ]
  },
  {
   "cell_type": "code",
   "execution_count": 165,
   "metadata": {},
   "outputs": [],
   "source": [
    "n.to_csv('out12.csv')"
   ]
  },
  {
   "cell_type": "code",
   "execution_count": null,
   "metadata": {
    "collapsed": true
   },
   "outputs": [],
   "source": []
  },
  {
   "cell_type": "code",
   "execution_count": null,
   "metadata": {
    "collapsed": true
   },
   "outputs": [],
   "source": []
  },
  {
   "cell_type": "code",
   "execution_count": null,
   "metadata": {
    "collapsed": true
   },
   "outputs": [],
   "source": []
  }
 ],
 "metadata": {
  "kernelspec": {
   "display_name": "Python 3",
   "language": "python",
   "name": "python3"
  },
  "language_info": {
   "codemirror_mode": {
    "name": "ipython",
    "version": 3
   },
   "file_extension": ".py",
   "mimetype": "text/x-python",
   "name": "python",
   "nbconvert_exporter": "python",
   "pygments_lexer": "ipython3",
   "version": "3.5.2"
  }
 },
 "nbformat": 4,
 "nbformat_minor": 2
}
